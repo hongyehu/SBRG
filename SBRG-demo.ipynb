{
 "cells": [
  {
   "cell_type": "code",
   "execution_count": 12,
   "metadata": {},
   "outputs": [],
   "source": [
    "# %reload_ext snakeviz\n",
    "%matplotlib inline\n",
    "%run SBRG.py\n",
    "import matplotlib.pyplot as plt"
   ]
  },
  {
   "cell_type": "markdown",
   "metadata": {},
   "source": [
    "Required package: \n",
    "- Numpy, \n",
    "- Numba (to accelerate entropy calculation), \n",
    "- Qutip (easy to compare with ED results)"
   ]
  },
  {
   "cell_type": "markdown",
   "metadata": {},
   "source": [
    "# Core\n",
    "## Pauli Algebra\n",
    "Pauli matrix class. A Pauli matrix is denoted as\n",
    "$$\\sigma=\\mathrm{i}^{x\\cdot z}\\prod_{i\\in Xs}X_i\\prod_{i\\in Zs}Z_i=\\mathrm{i}^{x\\cdot z}\\prod_{i}X_i^{x_i}Z_i^{z_i},$$\n",
    "where $x_i=\\delta(i\\in Xs)$, $z_i=\\delta(i\\in Zs)$ are vectors of 0,1, and $X_i$, $Z_i$ are the Pauli matrix on site $i$."
   ]
  },
  {
   "cell_type": "markdown",
   "metadata": {},
   "source": [
    "Pauli matrices can be created by `mkMat`\n",
    "- from Xs, Zs sets: `mkMat(Xs, Zs)`,\n",
    "- or from dict of indices: `mkMat({i:mu, ...})`,\n",
    "- or from list of indices: `mkMat([m0, mu1, ...])`."
   ]
  },
  {
   "cell_type": "code",
   "execution_count": 2,
   "metadata": {},
   "outputs": [
    {
     "data": {
      "text/plain": [
       "[<Xs:[0, 1] Zs:[1, 2]>, <Xs:[0, 1] Zs:[1, 2]>, <Xs:[0, 1] Zs:[1, 2]>]"
      ]
     },
     "execution_count": 2,
     "metadata": {},
     "output_type": "execute_result"
    }
   ],
   "source": [
    "[mkMat({0,1},{1,2}), mkMat({0:1,1:2,2:3}), mkMat([1,2,3])]"
   ]
  },
  {
   "cell_type": "markdown",
   "metadata": {},
   "source": [
    "`Mat` is hashable and can be compared."
   ]
  },
  {
   "cell_type": "code",
   "execution_count": 5,
   "metadata": {},
   "outputs": [
    {
     "name": "stdout",
     "output_type": "stream",
     "text": [
      "-1999641754715938413\n"
     ]
    },
    {
     "data": {
      "text/plain": [
       "True"
      ]
     },
     "execution_count": 5,
     "metadata": {},
     "output_type": "execute_result"
    }
   ],
   "source": [
    "print(hash(mkMat()))\n",
    "mkMat() == mkMat([])"
   ]
  },
  {
   "cell_type": "markdown",
   "metadata": {},
   "source": [
    "The commutativity of two Pauli operators can be checked by `is_commute`"
   ]
  },
  {
   "cell_type": "code",
   "execution_count": 7,
   "metadata": {},
   "outputs": [
    {
     "data": {
      "text/plain": [
       "False"
      ]
     },
     "execution_count": 7,
     "metadata": {},
     "output_type": "execute_result"
    }
   ],
   "source": [
    "is_commute(mkMat([0,1,0]),mkMat([1,2,3]))"
   ]
  },
  {
   "cell_type": "markdown",
   "metadata": {},
   "source": [
    "Merge two Pauli operators by indices. Coefficients are not calculated here. The coefficient can be restored from the commutation relations later."
   ]
  },
  {
   "cell_type": "code",
   "execution_count": 8,
   "metadata": {},
   "outputs": [
    {
     "data": {
      "text/plain": [
       "<Xs:[0] Zs:[1, 2]>"
      ]
     },
     "execution_count": 8,
     "metadata": {},
     "output_type": "execute_result"
    }
   ],
   "source": [
    "pdot(mkMat([0,1,0]),mkMat([1,2,3]))"
   ]
  },
  {
   "cell_type": "markdown",
   "metadata": {},
   "source": [
    "### Pauli Monomial\n",
    "A term of Pauli operator `Term.mat` with a constant multiple `Term.val`."
   ]
  },
  {
   "cell_type": "code",
   "execution_count": 9,
   "metadata": {},
   "outputs": [
    {
     "data": {
      "text/plain": [
       "[1.0 <Xs:[] Zs:[]>, 1.0 <Xs:[0, 1] Zs:[1]>, -3.2 <Xs:[0, 1] Zs:[1]>]"
      ]
     },
     "execution_count": 9,
     "metadata": {},
     "output_type": "execute_result"
    }
   ],
   "source": [
    "[Term(), Term(mkMat([1,2])),Term(mkMat([1,2]),-3.2)]"
   ]
  },
  {
   "cell_type": "markdown",
   "metadata": {},
   "source": [
    "Consider $\\sigma_A=\\mathrm{i}^{x_A\\cdot z_A} X_A Z_A$, $\\sigma_B=\\mathrm{i}^{x_B\\cdot z_B} X_B Z_B$, then the product reads:\n",
    "$$\\sigma_A\\sigma_B=\\mathrm{i}^{x_A\\cdot z_A+x_B\\cdot z_B+2 z_A\\cdot x_B}\\quad (X_A X_B) (Z_A Z_B)=\\mathrm{i}^{x_A\\cdot z_A+x_B\\cdot z_B-x_C\\cdot z_C+2 z_A\\cdot x_B}\\quad \\mathrm{i}^{x_C\\cdot z_C}X_C Z_C=\\mathrm{i}^{n^{C}_{AB}}\\; \\sigma_C,$$\n",
    "where $X_C=X_AX_B$, $Z_C=Z_AZ_B$ and $z_C = (z_A+z_B)\\mod 2$. The power of $\\mathrm{i}$ is\n",
    "$$n^{C}_{AB}=x_A\\cdot z_A+x_B\\cdot z_B-x_C\\cdot z_C+2 z_A\\cdot x_B$$"
   ]
  },
  {
   "cell_type": "code",
   "execution_count": 10,
   "metadata": {},
   "outputs": [
    {
     "data": {
      "text/plain": [
       "1.0 <Xs:[0, 1] Zs:[0]>"
      ]
     },
     "execution_count": 10,
     "metadata": {},
     "output_type": "execute_result"
    }
   ],
   "source": [
    "dot(Term(mkMat([1,2])),Term(mkMat([3,3])))"
   ]
  },
  {
   "cell_type": "code",
   "execution_count": 11,
   "metadata": {},
   "outputs": [
    {
     "data": {
      "text/plain": [
       "-1.0 <Xs:[0] Zs:[1]>"
      ]
     },
     "execution_count": 11,
     "metadata": {},
     "output_type": "execute_result"
    }
   ],
   "source": [
    "idot(Term(mkMat([2,0])),Term(mkMat([3,3])))"
   ]
  },
  {
   "cell_type": "markdown",
   "metadata": {},
   "source": [
    "## Hamiltonian\n",
    "Hamiltonian `Ham` is a sum of Pauli monomial terms. It can be created from a list of terms."
   ]
  },
  {
   "cell_type": "code",
   "execution_count": 12,
   "metadata": {},
   "outputs": [
    {
     "data": {
      "text/plain": [
       "[1.0 <Xs:[0] Zs:[1]>, 0.8 <Xs:[] Zs:[1, 2]>, 0.5 <Xs:[1, 2] Zs:[]>, 0.2 <Xs:[] Zs:[0]>]"
      ]
     },
     "execution_count": 12,
     "metadata": {},
     "output_type": "execute_result"
    }
   ],
   "source": [
    "H = Ham(\n",
    "    [Term(mkMat([0,1,1]),0.5),\n",
    "     Term(mkMat([3,0,0]),0.2),\n",
    "     Term(mkMat([0,3,3]),0.8),\n",
    "     Term(mkMat([1,3,0]),1.0)])\n",
    "H"
   ]
  },
  {
   "cell_type": "markdown",
   "metadata": {},
   "source": [
    "For our purpose, we generate Clifford algebra by $C_4$ rotation $R_{C4}$, like $\\pi/4$ phase gate\n",
    "$$R_{C4}(\\sigma^{[\\mu]})=\\exp\\left(i\\dfrac{\\pi}{4}\\sigma^{[\\mu]}\\right)=\\dfrac{1}{\\sqrt{2}}(1+i \\sigma^{[\\mu]})$$"
   ]
  },
  {
   "cell_type": "markdown",
   "metadata": {},
   "source": [
    "Its adjoint on matrix $\\sigma^{[\\nu]}$ is given by\n",
    "$$R_{C4}^{\\dagger}(\\sigma^{[\\mu]})\\sigma^{[\\nu]}R_{C4}(\\sigma^{[\\mu]})=i\\sigma^{[\\nu]}\\sigma^{[\\mu]},~\\text{if they anti-commute}; \\sigma^{[\\nu]},~\\text{otherwise}$$"
   ]
  },
  {
   "cell_type": "markdown",
   "metadata": {},
   "source": [
    "We can use SBRG to calculate C4 rotation on a Hamiltonian"
   ]
  },
  {
   "cell_type": "code",
   "execution_count": 29,
   "metadata": {},
   "outputs": [
    {
     "name": "stdout",
     "output_type": "stream",
     "text": [
      "Hamiltonian:  [0.5 <Xs:[1] Zs:[]>, 0.2 <Xs:[] Zs:[0]>]\n"
     ]
    }
   ],
   "source": [
    "H = Ham(\n",
    "    [Term(mkMat([0,1]),0.5),\n",
    "     Term(mkMat([3,0]),0.2)])\n",
    "print('Hamiltonian: ', H)"
   ]
  },
  {
   "cell_type": "code",
   "execution_count": 30,
   "metadata": {},
   "outputs": [],
   "source": [
    "H.C4(Term(mkMat([0,2])))"
   ]
  },
  {
   "cell_type": "code",
   "execution_count": 31,
   "metadata": {},
   "outputs": [
    {
     "name": "stdout",
     "output_type": "stream",
     "text": [
      "Hamiltonian after rotation: [-0.5 <Xs:[] Zs:[1]>, 0.2 <Xs:[] Zs:[0]>]\n"
     ]
    }
   ],
   "source": [
    "print('Hamiltonian after rotation:', H)"
   ]
  },
  {
   "cell_type": "markdown",
   "metadata": {},
   "source": [
    "We can also use a list to contain a serial of $R_{C4}$ rotations, and use \".forward()\" function to rotate Hamiltonain sequentially."
   ]
  },
  {
   "cell_type": "code",
   "execution_count": 9,
   "metadata": {},
   "outputs": [
    {
     "name": "stdout",
     "output_type": "stream",
     "text": [
      "Hamiltonian:  [0.5 <Xs:[1] Zs:[]>, 0.2 <Xs:[] Zs:[0]>]\n",
      "Hamiltonian after rotation:  [-0.5 <Xs:[] Zs:[1]>, 0.2 <Xs:[0] Zs:[]>]\n"
     ]
    }
   ],
   "source": [
    "H = Ham(\n",
    "    [Term(mkMat([0,1]),0.5),\n",
    "     Term(mkMat([3,0]),0.2)])\n",
    "print('Hamiltonian: ', H)\n",
    "C4_list = [Term(mkMat([0,2])),Term(mkMat([2,0]))]\n",
    "H.forward(C4_list)\n",
    "print('Hamiltonian after rotation: ', H)"
   ]
  },
  {
   "cell_type": "markdown",
   "metadata": {},
   "source": [
    "### Create your own physical model of disorder systems"
   ]
  },
  {
   "cell_type": "markdown",
   "metadata": {},
   "source": [
    "A model will be contained in the `Model()` class. Here we will demostrate how to create your own model with `SBRG`."
   ]
  },
  {
   "cell_type": "markdown",
   "metadata": {},
   "source": [
    "Here, we demostrate how to create the random transverse field Ising model with periodic boundary condition using `Model` class:\n",
    "$$H=-\\sum_{i}J_i X_i X_{i+1}-\\sum_{i}K_i Z_i Z_{i+1}-\\sum_i h_i Z_i$$"
   ]
  },
  {
   "cell_type": "code",
   "execution_count": 3,
   "metadata": {},
   "outputs": [],
   "source": [
    "# quantum Ising model\n",
    "def TFIsing(L, **para):\n",
    "    # L - number of sites (assuming PBC)\n",
    "    # model - a dict of model parameters\n",
    "    try: # set parameter alpha\n",
    "        alpha = para['alpha']\n",
    "        alpha_J = alpha\n",
    "        alpha_K = alpha\n",
    "        alpha_h = alpha\n",
    "    except:\n",
    "        alpha_J = para.get('alpha_J',1)\n",
    "        alpha_K = para.get('alpha_K',1)\n",
    "        alpha_h = para.get('alpha_h',1)\n",
    "    model = Model()\n",
    "    model.size = L\n",
    "    H_append = model.terms.append\n",
    "    rnd_beta = random.betavariate\n",
    "    for i in range(L):\n",
    "        H_append(Term(mkMat({i: 1, (i+1)%L: 1}), -para['J']*rnd_beta(alpha_J, 1)))\n",
    "        H_append(Term(mkMat({i: 3, (i+1)%L: 3}), -para['K']*rnd_beta(alpha_K, 1)))\n",
    "        H_append(Term(mkMat({i: 3}), -para['h']*rnd_beta(alpha_h, 1)))\n",
    "    model.terms = [term for term in model.terms if abs(term.val) > 0]\n",
    "    return model"
   ]
  },
  {
   "cell_type": "markdown",
   "metadata": {},
   "source": [
    "Now we can use it to generate random Hamiltonians for transverse field Ising model!"
   ]
  },
  {
   "cell_type": "code",
   "execution_count": 6,
   "metadata": {},
   "outputs": [],
   "source": [
    "H = TFIsing(10,**{'alpha':1, 'J':0, 'K':1, 'h':0.1})"
   ]
  },
  {
   "cell_type": "markdown",
   "metadata": {},
   "source": [
    "We can print the terms in our model:"
   ]
  },
  {
   "cell_type": "code",
   "execution_count": 8,
   "metadata": {},
   "outputs": [
    {
     "data": {
      "text/plain": [
       "[-0.48572974013884723 <Xs:[] Zs:[0, 1]>,\n",
       " -0.059097006883942094 <Xs:[] Zs:[0]>,\n",
       " -0.0897059941452797 <Xs:[] Zs:[1, 2]>,\n",
       " -0.07112631839444992 <Xs:[] Zs:[1]>,\n",
       " -0.5821475468076082 <Xs:[] Zs:[2, 3]>,\n",
       " -0.022970783432911458 <Xs:[] Zs:[2]>,\n",
       " -0.2399389264057369 <Xs:[] Zs:[3, 4]>,\n",
       " -0.08783283255320778 <Xs:[] Zs:[3]>,\n",
       " -0.7406664685936012 <Xs:[] Zs:[4, 5]>,\n",
       " -0.04630675848533874 <Xs:[] Zs:[4]>,\n",
       " -0.31876036382042083 <Xs:[] Zs:[5, 6]>,\n",
       " -0.02007830434504277 <Xs:[] Zs:[5]>,\n",
       " -0.31521431052572696 <Xs:[] Zs:[6, 7]>,\n",
       " -0.07166554977654012 <Xs:[] Zs:[6]>,\n",
       " -0.6401070249267768 <Xs:[] Zs:[7, 8]>,\n",
       " -0.017347636845403618 <Xs:[] Zs:[7]>,\n",
       " -0.8014594487501201 <Xs:[] Zs:[8, 9]>,\n",
       " -0.059306524053466814 <Xs:[] Zs:[8]>,\n",
       " -0.09348520331545136 <Xs:[] Zs:[0, 9]>,\n",
       " -0.055869428458517424 <Xs:[] Zs:[9]>]"
      ]
     },
     "execution_count": 8,
     "metadata": {},
     "output_type": "execute_result"
    }
   ],
   "source": [
    "H.terms"
   ]
  },
  {
   "cell_type": "markdown",
   "metadata": {},
   "source": [
    "### Bridge to `Qutip` package"
   ]
  },
  {
   "cell_type": "markdown",
   "metadata": {},
   "source": [
    "`Qutip` is an open source python package for quantum system simulation. \n",
    "\n",
    "And we have build the tool to transform SBRG `Ham` class object to `Qutip` Qobj class object."
   ]
  },
  {
   "cell_type": "markdown",
   "metadata": {},
   "source": [
    "To transform SBRG Hamiltonian to Qutip Hamiltonian, you can use `system_Ham_to_qutip_Ham(system_size, SBRG_Hamiltonian)`"
   ]
  },
  {
   "cell_type": "markdown",
   "metadata": {},
   "source": [
    "Links to `Qutip` documents: [Link](http://nbviewer.ipython.org/urls/raw.github.com/jrjohansson/qutip-lectures/master/Lecture-0-Introduction-to-QuTiP.ipynb)"
   ]
  },
  {
   "cell_type": "markdown",
   "metadata": {},
   "source": [
    "Suppose we create a `SBRG` Hamiltonian:"
   ]
  },
  {
   "cell_type": "code",
   "execution_count": 2,
   "metadata": {},
   "outputs": [],
   "source": [
    "H = Ham(\n",
    "    [Term(mkMat([0,1]),0.5),\n",
    "     Term(mkMat([3,0]),0.2)])"
   ]
  },
  {
   "cell_type": "markdown",
   "metadata": {},
   "source": [
    "We can transform it to `Qutip` Hamiltonian:"
   ]
  },
  {
   "cell_type": "code",
   "execution_count": 3,
   "metadata": {},
   "outputs": [
    {
     "name": "stdout",
     "output_type": "stream",
     "text": [
      "Quantum object: dims = [[2, 2], [2, 2]], shape = (4, 4), type = oper, isherm = True\n",
      "Qobj data =\n",
      "[[ 0.2  0.5  0.   0. ]\n",
      " [ 0.5  0.2  0.   0. ]\n",
      " [ 0.   0.  -0.2  0.5]\n",
      " [ 0.   0.   0.5 -0.2]]\n"
     ]
    }
   ],
   "source": [
    "Qutip_H = system_Ham_to_qutip_Ham(2,H)\n",
    "print(Qutip_H)"
   ]
  },
  {
   "cell_type": "markdown",
   "metadata": {},
   "source": [
    "Let's try transverse field Ising model Hamiltonian:"
   ]
  },
  {
   "cell_type": "code",
   "execution_count": 9,
   "metadata": {},
   "outputs": [],
   "source": [
    "H = TFIsing(10,**{'alpha':1, 'J':0, 'K':1, 'h':0.1})"
   ]
  },
  {
   "cell_type": "code",
   "execution_count": 10,
   "metadata": {},
   "outputs": [],
   "source": [
    "Qutip_H = system_Ham_to_qutip_Ham(10, H)"
   ]
  },
  {
   "cell_type": "code",
   "execution_count": 11,
   "metadata": {},
   "outputs": [
    {
     "name": "stdout",
     "output_type": "stream",
     "text": [
      "Quantum object: dims = [[2, 2, 2, 2, 2, 2, 2, 2, 2, 2], [2, 2, 2, 2, 2, 2, 2, 2, 2, 2]], shape = (1024, 1024), type = oper, isherm = True\n",
      "Qobj data =\n",
      "[[-4.60562593  0.          0.         ...  0.          0.\n",
      "   0.        ]\n",
      " [ 0.         -3.17050846  0.         ...  0.          0.\n",
      "   0.        ]\n",
      " [ 0.          0.         -3.74091324 ...  0.          0.\n",
      "   0.        ]\n",
      " ...\n",
      " [ 0.          0.          0.         ... -3.07485983  0.\n",
      "   0.        ]\n",
      " [ 0.          0.          0.         ...  0.         -2.43888095\n",
      "   0.        ]\n",
      " [ 0.          0.          0.         ...  0.          0.\n",
      "  -3.84782262]]\n"
     ]
    }
   ],
   "source": [
    "print(Qutip_H)"
   ]
  },
  {
   "cell_type": "markdown",
   "metadata": {},
   "source": [
    "## SBRG"
   ]
  },
  {
   "cell_type": "markdown",
   "metadata": {},
   "source": [
    "### How to use SBRG algorithm diagonalizing our Hamiltonian iteratively?"
   ]
  },
  {
   "cell_type": "code",
   "execution_count": 4,
   "metadata": {},
   "outputs": [],
   "source": [
    "model = TFIsing(10,**{'alpha':1, 'J':0, 'K':1, 'h':0.1})\n",
    "system = SBRG(model)"
   ]
  },
  {
   "cell_type": "markdown",
   "metadata": {},
   "source": [
    "There are some hyperparameters that controls how many new terms generated by perturbation theory are going to be kept:"
   ]
  },
  {
   "cell_type": "markdown",
   "metadata": {},
   "source": [
    "SBRG.tol      :: float : terms with energy < leading energy * tol will be truncated\n",
    "\n",
    "SBRG.max_rate :: float : each RG step allows at most (max_rate * num of off-diagonal terms) amount of new terms"
   ]
  },
  {
   "cell_type": "code",
   "execution_count": 5,
   "metadata": {},
   "outputs": [
    {
     "data": {
      "text/plain": [
       "<__main__.SBRG at 0x7fcd08ebcf90>"
      ]
     },
     "execution_count": 5,
     "metadata": {},
     "output_type": "execute_result"
    }
   ],
   "source": [
    "system.tol = 0.\n",
    "system.max_rate = 1000.\n",
    "system.run()"
   ]
  },
  {
   "cell_type": "markdown",
   "metadata": {},
   "source": [
    "Now the Hamiltonian is fully diagonalized. We can check the effective Hamiltonian, and find it is all in pauli-Z basis."
   ]
  },
  {
   "cell_type": "code",
   "execution_count": 6,
   "metadata": {},
   "outputs": [
    {
     "data": {
      "text/plain": [
       "[-0.8471429109758388 <Xs:[] Zs:[8]>,\n",
       " -0.7614193443532637 <Xs:[] Zs:[3]>,\n",
       " -0.5621343906315225 <Xs:[] Zs:[1]>,\n",
       " -0.5052207409000993 <Xs:[] Zs:[2]>,\n",
       " -0.4177129411140818 <Xs:[] Zs:[7]>,\n",
       " -0.3540462605305455 <Xs:[] Zs:[6]>,\n",
       " -0.29607711006323434 <Xs:[] Zs:[0]>,\n",
       " -0.2908548086283606 <Xs:[] Zs:[5]>,\n",
       " -0.11559725720325642 <Xs:[] Zs:[0, 1, 2, 3, 4, 5, 6, 7, 8]>,\n",
       " -0.24171484683537453 <Xs:[] Zs:[4]>,\n",
       " -0.08681025162618483 <Xs:[] Zs:[0, 5, 6, 7, 8, 9]>,\n",
       " -0.08368237754345108 <Xs:[] Zs:[5, 6, 9]>,\n",
       " -0.001316658051464393 <Xs:[] Zs:[5, 9]>,\n",
       " -0.06129571982521144 <Xs:[] Zs:[5, 6, 7, 9]>,\n",
       " -0.09458017502250247 <Xs:[] Zs:[9]>,\n",
       " -0.0834564751781167 <Xs:[] Zs:[3, 4, 9]>,\n",
       " -0.07519053593659264 <Xs:[] Zs:[1, 2, 3, 4, 9]>,\n",
       " -0.09045835546239792 <Xs:[] Zs:[5, 6, 7, 8, 9]>,\n",
       " -0.022864345459538422 <Xs:[] Zs:[2, 3, 4, 9]>,\n",
       " -0.028130556456352564 <Xs:[] Zs:[4, 9]>]"
      ]
     },
     "execution_count": 6,
     "metadata": {},
     "output_type": "execute_result"
    }
   ],
   "source": [
    "system.Heff"
   ]
  },
  {
   "cell_type": "markdown",
   "metadata": {},
   "source": [
    "We can find the ground state, and its associated energy by `.grndstate_blk()` function."
   ]
  },
  {
   "cell_type": "code",
   "execution_count": 7,
   "metadata": {},
   "outputs": [],
   "source": [
    "ground_state, energy = system.grndstate_blk()"
   ]
  },
  {
   "cell_type": "code",
   "execution_count": 8,
   "metadata": {},
   "outputs": [
    {
     "name": "stdout",
     "output_type": "stream",
     "text": [
      "ground state is indicated by the effective bulk spins:\n"
     ]
    },
    {
     "data": {
      "text/plain": [
       "[1, 1, 1, 1, 1, 1, 1, 1, 1, 1]"
      ]
     },
     "execution_count": 8,
     "metadata": {},
     "output_type": "execute_result"
    }
   ],
   "source": [
    "print('ground state is indicated by the effective bulk spins:')\n",
    "ground_state"
   ]
  },
  {
   "cell_type": "code",
   "execution_count": 9,
   "metadata": {},
   "outputs": [
    {
     "data": {
      "text/plain": [
       "-5.01970606179739"
      ]
     },
     "execution_count": 9,
     "metadata": {},
     "output_type": "execute_result"
    }
   ],
   "source": [
    "energy"
   ]
  },
  {
   "cell_type": "markdown",
   "metadata": {},
   "source": [
    "Instead of just getting ground state, you can also get the full spectrum of your Hamiltonian"
   ]
  },
  {
   "cell_type": "code",
   "execution_count": 10,
   "metadata": {},
   "outputs": [],
   "source": [
    "full_spectrum = get_full_spectrum(system)"
   ]
  },
  {
   "cell_type": "code",
   "execution_count": 16,
   "metadata": {},
   "outputs": [
    {
     "data": {
      "text/plain": [
       "[<matplotlib.lines.Line2D at 0x7fccfa2e7410>]"
      ]
     },
     "execution_count": 16,
     "metadata": {},
     "output_type": "execute_result"
    },
    {
     "data": {
      "image/png": "[encoded data removed]",
      "text/plain": [
       "<Figure size 432x288 with 1 Axes>"
      ]
     },
     "metadata": {
      "needs_background": "light"
     },
     "output_type": "display_data"
    }
   ],
   "source": [
    "plt.plot(sorted(full_spectrum),'o')"
   ]
  },
  {
   "cell_type": "markdown",
   "metadata": {},
   "source": [
    "## Expectation value of physical observables"
   ]
  },
  {
   "cell_type": "code",
   "execution_count": null,
   "metadata": {},
   "outputs": [],
   "source": []
  },
  {
   "cell_type": "code",
   "execution_count": null,
   "metadata": {},
   "outputs": [],
   "source": []
  },
  {
   "cell_type": "code",
   "execution_count": null,
   "metadata": {},
   "outputs": [],
   "source": []
  },
  {
   "cell_type": "code",
   "execution_count": null,
   "metadata": {},
   "outputs": [],
   "source": []
  },
  {
   "cell_type": "code",
   "execution_count": null,
   "metadata": {},
   "outputs": [],
   "source": []
  },
  {
   "cell_type": "markdown",
   "metadata": {},
   "source": [
    "## Entanglement Entropy"
   ]
  },
  {
   "cell_type": "code",
   "execution_count": null,
   "metadata": {},
   "outputs": [],
   "source": []
  },
  {
   "cell_type": "code",
   "execution_count": null,
   "metadata": {},
   "outputs": [],
   "source": []
  },
  {
   "cell_type": "code",
   "execution_count": null,
   "metadata": {},
   "outputs": [],
   "source": []
  },
  {
   "cell_type": "code",
   "execution_count": null,
   "metadata": {},
   "outputs": [],
   "source": []
  },
  {
   "cell_type": "code",
   "execution_count": null,
   "metadata": {},
   "outputs": [],
   "source": []
  },
  {
   "cell_type": "code",
   "execution_count": null,
   "metadata": {},
   "outputs": [],
   "source": []
  }
 ],
 "metadata": {
  "@webio": {
   "lastCommId": null,
   "lastKernelId": null
  },
  "hide_input": false,
  "kernelspec": {
   "display_name": "Python 3",
   "language": "python",
   "name": "python3"
  },
  "language_info": {
   "codemirror_mode": {
    "name": "ipython",
    "version": 3
   },
   "file_extension": ".py",
   "mimetype": "text/x-python",
   "name": "python",
   "nbconvert_exporter": "python",
   "pygments_lexer": "ipython3",
   "version": "3.7.5"
  }
 },
 "nbformat": 4,
 "nbformat_minor": 2
}
